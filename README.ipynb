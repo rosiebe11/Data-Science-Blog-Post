{
 "cells": [
  {
   "cell_type": "markdown",
   "id": "af25e9f8",
   "metadata": {},
   "source": [
    "# Udacity Airbnb Analysis"
   ]
  },
  {
   "cell_type": "markdown",
   "id": "8ca98504",
   "metadata": {},
   "source": [
    "Udacity Data Science Nano-degree - Project 1\n",
    "\n",
    "### Libraries Used\n",
    "\n",
    "The project was implemented using Anaconda distribution of Python 3.7. The following libraries were also utilised:\n",
    "\n",
    "1. Matplotlib\n",
    "2. NumPy\n",
    "3. Pandas\n",
    "4. Sklearn\n",
    "\n",
    "### Project Motivation\n",
    "\n",
    "The blog post forms part of my data science nanodegree through Udacity. The project explores data from Airbnb rentals in Seattle, focusing on the factor influencing price. \n",
    "\n",
    "### File Descriptions\n",
    "\n",
    "The are 4 files used in this project. \n",
    "\n",
    "1. README.md\n",
    "2. Airbnb price analysis.ipynb\n",
    "3. Calendar.csv (contains booking data). Data source — https://www.kaggle.com/airbnb/seattle/data\n",
    "4. Listings.csv (contains listings data). Data source — https://www.kaggle.com/airbnb/seattle/data\n",
    "\n",
    "### Results\n",
    "\n",
    "The key findings of my project are summarised below:\n",
    "\n",
    "1. The peak season in Seattle is during the Summer months (June to August). \n",
    "2. \"Southeast Magnolia\" is the most expensive neighbourhood and Rainer Beach is the cheapest, the difference between the two was an average of $300.\n",
    "3. Broadway, Belltown and Wallingford are the neighbourhoods with the most listings. \n",
    "4. The size of the accomation is the greatest influencer on price. \n",
    "5. The price of the accomations also strongly correlates to the cleaning fee,  security deposit and number of amenities. \n",
    "\n",
    "### Acknowledgements \n",
    "\n",
    "Credit to Udacity and Airbnb for designing the project and providing datasets.\n",
    "\n"
   ]
  },
  {
   "cell_type": "code",
   "execution_count": null,
   "id": "8caa5fe6",
   "metadata": {},
   "outputs": [],
   "source": []
  }
 ],
 "metadata": {
  "kernelspec": {
   "display_name": "Python 3 (ipykernel)",
   "language": "python",
   "name": "python3"
  },
  "language_info": {
   "codemirror_mode": {
    "name": "ipython",
    "version": 3
   },
   "file_extension": ".py",
   "mimetype": "text/x-python",
   "name": "python",
   "nbconvert_exporter": "python",
   "pygments_lexer": "ipython3",
   "version": "3.9.12"
  }
 },
 "nbformat": 4,
 "nbformat_minor": 5
}
